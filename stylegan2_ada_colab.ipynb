{
  "cells": [
    {
      "cell_type": "markdown",
      "metadata": {
        "id": "_9qbVplkZYjp"
      },
      "source": [
        "# GPUの種類\n",
        "\n",
        "Colabがあなたに割り当てるGPUの種類は、トレーニング時間に大きく影響します。Colabで達成したいくつかのサンプルタイムをここに示す。 Colab Proは通常V100でスタートしますが、24時間ノンストップでスクリプトを実行し続けた場合、P100に戻される。\n",
        "\n",
        "* 1024x1024 - V100 - 566秒/tick(CoLab Pro)\n",
        "* 1024x1024 - P100 - 1819秒/tick(CoLab Pro)\n",
        "* 1024x1024 - T4 - 2188 sec/tick (CoLab Free)\n",
        "\n",
        "Google CoLab Proを使用する場合、一般的に、非アクティブでも、24時間以内に切断されることはない。 無料のCoLabでは、数時間操作をしないと、完全に動作しているスクリプトが切断される。 この問題を回避する方法は、以下の通り。\n",
        "\n",
        "* Google Colabが切断されないようにするには](https://stackoverflow.com/questions/57113226/how-to-prevent-google-colab-from-disconnecting)\n",
        "\n"
      ]
    },
    {
      "cell_type": "markdown",
      "source": [],
      "metadata": {
        "id": "JTrya7ipG12_"
      }
    },
    {
      "cell_type": "code",
      "execution_count": null,
      "metadata": {
        "id": "FU58a3IklcJw"
      },
      "outputs": [],
      "source": [
        "from google.colab import drive\n",
        "drive.mount('/content/drive')"
      ]
    },
    {
      "cell_type": "code",
      "execution_count": null,
      "metadata": {
        "id": "iPrGcTX8c7E-"
      },
      "outputs": [],
      "source": [
        "!nvidia-smi"
      ]
    },
    {
      "cell_type": "markdown",
      "metadata": {
        "id": "wzWrFN_tGV-Y"
      },
      "source": [
        "# 環境構築\n",
        "\n",
        "24時間以上のトレーニングが必要。 Colabは数時間おきにセッションを切断する。 このとき、トレーニングを再開できるように準備しておく必要がある。 トレーニングはtickに分けられ、多くのtick（デフォルトでは50）ごとにニューラルネットワークが評価され、スナップショットが保存される。 Colabがシャットダウンすると、最後のスナップショット以降のトレーニングはすべて失われる。1tickごとにスナップショットするのが望ましいと思われるが、このスナップショット処理自体に1時間近くかかってしまう。 解像度や学習データに応じて最適なスナップショットサイズを知ることが重要です。\n",
        "\n",
        "GDRIVEをマウントし、スナップショットをそこに保存するようにします。 また、トレーニング用の画像もGDRIVEに配置する必要があります。"
      ]
    },
    {
      "cell_type": "markdown",
      "metadata": {
        "id": "X41Ll0WtYqB0"
      },
      "source": [
        "NVIDIA StyleGAN2 ADA PyTorchもインストールする必要がある。 また、PyTorchをStyleGANをサポートするバージョンにダウングレードする必要がある。"
      ]
    },
    {
      "cell_type": "code",
      "source": [
        "!pip uninstall tensorboard\n",
        "!pip install tensorboard==1.14.1\n",
        "!pip uninstall jax jaxlib\n",
        "!pip install jax[cpu]==0.3.10"
      ],
      "metadata": {
        "id": "Bmf26DzsSUG8"
      },
      "execution_count": null,
      "outputs": []
    },
    {
      "cell_type": "code",
      "execution_count": null,
      "metadata": {
        "id": "uNqsi6VWAlWo"
      },
      "outputs": [],
      "source": [
        "!pip install torch==1.8.1 torchvision==0.9.1\n",
        "!pip install ninja"
      ]
    },
    {
      "cell_type": "code",
      "source": [
        "import os\n",
        "os.chdir(\"/content\")\n",
        "!git clone https://github.com/NVlabs/stylegan2-ada-pytorch.git"
      ],
      "metadata": {
        "id": "5mLWt9DmmCM4"
      },
      "execution_count": null,
      "outputs": []
    },
    {
      "cell_type": "code",
      "execution_count": null,
      "metadata": {
        "id": "d8_k3HHNPndN"
      },
      "outputs": [],
      "source": [
        "!pip install icrawler"
      ]
    },
    {
      "cell_type": "markdown",
      "source": [
        "# 画像収集 & 画像変換\n",
        "\n",
        "Googleの検索機能を用いて画像を収集し、適切なサイズの画像へと修正する。"
      ],
      "metadata": {
        "id": "Q1_2JtxBi0uj"
      }
    },
    {
      "cell_type": "code",
      "source": [
        "gender = 'Men' #@param [\"Men\",\"Women\"]{allow-input: false}"
      ],
      "metadata": {
        "id": "fWk31NS2iE0v"
      },
      "execution_count": null,
      "outputs": []
    },
    {
      "cell_type": "code",
      "execution_count": null,
      "metadata": {
        "id": "N2e_TrZTUEYJ"
      },
      "outputs": [],
      "source": [
        "from icrawler.builtin import GoogleImageCrawler\n",
        "import os\n",
        "\n",
        "if not os.path.exists('/content/drive/MyDrive/data/gan/images'):\n",
        "  os.makedirs('/content/drive/MyDrive/data/gan/images')\n",
        "  os.makedirs('/content/drive/MyDrive/data/gan/dataset')\n",
        "  os.makedirs('/content/drive/MyDrive/data/gan/experiments')\n",
        "\n",
        "os.chdir('/content/drive/MyDrive/data/gan/images')\n",
        "print(os.getcwd())\n",
        "\n",
        "if not (os.path.exists('./drive/MyDrive/data/gan/images/'+ gender +'/000000')):\n",
        "  crawler = GoogleImageCrawler(storage={\"root_dir\": gender+\"/000000\"})\n",
        "  crawler.crawl(keyword=\"Japanese Face \" + gender, max_num = 200)"
      ]
    },
    {
      "cell_type": "code",
      "execution_count": null,
      "metadata": {
        "id": "0qggW2lylxFj"
      },
      "outputs": [],
      "source": [
        "import os\n",
        "import glob\n",
        "from PIL import Image\n",
        "\n",
        "dir = \"/content/drive/MyDrive/data/gan/images/\"+ gender +\"/000000/*\"\n",
        "\n",
        "list = glob.glob(dir)\n",
        "i = 1\n",
        "\n",
        "for file in list:\n",
        "    new_file_name =('/content/drive/MyDrive/data/gan/images/' + gender + '/000000/' + str(i).zfill(6) + '_trimmed.jpg')\n",
        "    img = Image.open(file)\n",
        "    resized_img = img.resize((256,256))\n",
        "    resized_img.convert('RGB').save(new_file_name)\n",
        "    os.remove(file)\n",
        "    i+=1"
      ]
    },
    {
      "cell_type": "code",
      "source": [
        "source = \"/content/drive/MyDrive/data/gan/images/\" + str(gender) + \"/000000\"\n",
        "dataset = \"/content/drive/MyDrive/data/gan/dataset/\" + str(gender)"
      ],
      "metadata": {
        "id": "bZM_LafNFiZg"
      },
      "execution_count": null,
      "outputs": []
    },
    {
      "cell_type": "code",
      "execution_count": null,
      "metadata": {
        "id": "lYP2NlwHA6r9"
      },
      "outputs": [],
      "source": [
        "!python /content/stylegan2-ada-pytorch/dataset_tool.py --source=$source --dest=$dataset"
      ]
    },
    {
      "cell_type": "markdown",
      "metadata": {
        "id": "otsNELpn8_2D"
      },
      "source": [
        "新しく作成したデータセットを消去するには、次のコマンドを実行する。 何か問題が起きて、画像を整理して上記のコマンドを再実行する必要がある場合は、部分的に作成されたデータセットディレクトリを削除しておく必要がある。"
      ]
    },
    {
      "cell_type": "code",
      "execution_count": null,
      "metadata": {
        "id": "ctdqmU96BhB3"
      },
      "outputs": [],
      "source": [
        "#!rm -R /content/drive/MyDrive/data/gan/dataset/Men/*"
      ]
    },
    {
      "cell_type": "markdown",
      "metadata": {
        "id": "xmSOo3HvGwgV"
      },
      "source": [
        "# 画像の一括調整\n",
        "\n",
        "すべての画像の寸法と色深度が同じであることが重要。 このコードにより、問題のある画像を特定することができる。"
      ]
    },
    {
      "cell_type": "code",
      "execution_count": null,
      "metadata": {
        "id": "FLKBUUfXHJ0a"
      },
      "outputs": [],
      "source": [
        "from os import listdir\n",
        "from os.path import isfile, join\n",
        "import os\n",
        "from PIL import Image\n",
        "from tqdm.notebook import tqdm\n",
        "\n",
        "IMAGE_PATH = '/content/drive/MyDrive/data/gan/images/' + gender + \"/000000\"\n",
        "files = [f for f in listdir(IMAGE_PATH) if isfile(join(IMAGE_PATH, f))]\n",
        "\n",
        "base_size = None\n",
        "for file in tqdm(files):\n",
        "  file2 = os.path.join(IMAGE_PATH,file)\n",
        "  img = Image.open(file2)\n",
        "  sz = img.size\n",
        "  if base_size and sz!=base_size:\n",
        "    print(f\"Inconsistant size: {file2}\")\n",
        "  elif img.mode!='RGB':\n",
        "    print(f\"Inconsistant color format: {file2}\")\n",
        "  else:\n",
        "    base_size = sz\n"
      ]
    },
    {
      "cell_type": "markdown",
      "metadata": {
        "id": "5No-bokaG5Ed"
      },
      "source": [
        "# 初期の実行\n",
        "初期以外でこのセルを実行してはいけない。"
      ]
    },
    {
      "cell_type": "code",
      "execution_count": null,
      "metadata": {
        "id": "tzAdHMp7KLzz"
      },
      "outputs": [],
      "source": [
        "import os\n",
        "\n",
        "# Modify these to suit your needs\n",
        "EXPERIMENTS = \"/content/drive/MyDrive/data/gan/experiments\"\n",
        "DATA = \"/content/drive/MyDrive/data/gan/dataset/\"+gender\n",
        "SNAP = 10\n",
        "\n",
        "# Build the command and run it\n",
        "cmd = f\"/usr/bin/python3 /content/stylegan2-ada-pytorch/train.py --snap {SNAP} --outdir {EXPERIMENTS} --data {DATA}\"\n",
        "!{cmd}"
      ]
    },
    {
      "cell_type": "markdown",
      "metadata": {
        "id": "NS-oe6jMG_0A"
      },
      "source": [
        "# 実行の再開"
      ]
    },
    {
      "cell_type": "code",
      "source": [
        "import os\n",
        "os.chdir(\"/content\")\n",
        "!git clone https://github.com/NVlabs/stylegan2-ada-pytorch.git"
      ],
      "metadata": {
        "id": "aBYBXaVbRM1X"
      },
      "execution_count": null,
      "outputs": []
    },
    {
      "cell_type": "code",
      "execution_count": null,
      "metadata": {
        "id": "pvPZLsCUlzGn"
      },
      "outputs": [],
      "source": [
        "import os\n",
        "\n",
        "# 要望に合わせて修正する\n",
        "EXPERIMENTS = \"/content/drive/MyDrive/data/gan/experiments/\"+gender\n",
        "snapshot-version = 160 #@param {type:\"number\"}\n",
        "NETWORK = \"network-snapshot-\"+str(snapshot-version.zfill(6))+\".pkl\"\n",
        "experiment-directory = \"00000-Men-auto1\" #@param {type:\"string\"}\n",
        "RESUME = os.path.join(EXPERIMENTS, experiment-directory, NETWORK)\n",
        "useDataset = False #@param {type:\"boolean\"}\n",
        "DATA;\n",
        "if (useDataset){\n",
        "    dataset-version = 0 #@param {type:\"number\",min:0,max:999999}\n",
        "    DATA = \"/content/drive/MyDrive/data/gan/dataset/\"+gender+\"/\"+str(dataset-version.zfill(5))\n",
        "} else {\n",
        "    rate = 0 #@param {type:\"slider\",min:0,max:5,step:1}\n",
        "    DATA = \"/content/drive/MyDrive/data/gan/rated_images/\"+gender+\"/\"+rate\n",
        "}\n",
        "\n",
        "snap = 10 #@param {type:\"number\"}\n",
        "\n",
        "# コマンドを実行\n",
        "cmd = f\"/usr/bin/python3 /content/stylegan2-ada-pytorch/train.py --snap {snap} --resume {RESUME} --outdir {EXPERIMENTS} --data {DATA}\"\n",
        "!{cmd}"
      ]
    },
    {
      "cell_type": "markdown",
      "source": [
        "# 生成画像の編集"
      ],
      "metadata": {
        "id": "PLFa58OqjMRR"
      }
    },
    {
      "cell_type": "code",
      "source": [
        "from google.colab import drive\n",
        "drive.mount('/content/drive')"
      ],
      "metadata": {
        "id": "eiA3rUGfd80D"
      },
      "execution_count": null,
      "outputs": []
    },
    {
      "cell_type": "code",
      "source": [
        "import cv2\n",
        "import numpy as np\n",
        "import glob\n",
        "import os\n",
        "\n",
        "files = glob.glob('/content/drive/MyDrive/data/gan/experiments/'+gender+'/*/fakes*.png')\n",
        "\n",
        "for file in files:\n",
        "  if gender in file:\n",
        "    #画像の読み込み\n",
        "    img=cv2.imread(file,cv2.IMREAD_COLOR)\n",
        "    h,w=img.shape[:2]\n",
        "    split_x=30\n",
        "    split_y=16\n",
        "    #画像の分割処理\n",
        "    cx=0\n",
        "    cy=0\n",
        "    os.makedirs('/content/drive/MyDrive/data/gan/split_pic/'+gender+'/gen_'+str(files.index(file)))\n",
        "    for i in rnage(6):\n",
        "      os.makedirs('/content/drive/MyDrive/data/gan/rated_images/'+gender+\"/\"+str(i))\n",
        "    for j in range(split_x):\n",
        "        for i in range(split_y):\n",
        "            split_pic=img[cy:cy+int(h/split_y),cx:cx+int(w/split_x),:]\n",
        "            cv2.imwrite('/content/drive/MyDrive/data/gan/split_pic/'+gender+'/gen_'+str(files.index(file))+'/split_y'+str(i)+'_x'+str(j)+'.png',split_pic)\n",
        "            cy=cy+int(h/split_y)\n",
        "        cy=0\n",
        "        cx=cx+int(w/split_x)"
      ],
      "metadata": {
        "id": "6-hr4IIOjK6b"
      },
      "execution_count": null,
      "outputs": []
    }
  ],
  "metadata": {
    "accelerator": "GPU",
    "colab": {
      "collapsed_sections": [
        "_9qbVplkZYjp",
        "xmSOo3HvGwgV"
      ],
      "provenance": [],
      "private_outputs": true
    },
    "gpuClass": "standard",
    "kernelspec": {
      "display_name": "Python 3 (ipykernel)",
      "language": "python",
      "name": "python3"
    },
    "language_info": {
      "codemirror_mode": {
        "name": "ipython",
        "version": 3
      },
      "file_extension": ".py",
      "mimetype": "text/x-python",
      "name": "python",
      "nbconvert_exporter": "python",
      "pygments_lexer": "ipython3",
      "version": "3.9.5"
    }
  },
  "nbformat": 4,
  "nbformat_minor": 0
}